{
 "cells": [
  {
   "cell_type": "code",
   "execution_count": 1,
   "metadata": {},
   "outputs": [
    {
     "name": "stderr",
     "output_type": "stream",
     "text": [
      "/home/jean/miniconda3/envs/py36/lib/python3.6/importlib/_bootstrap.py:219: RuntimeWarning: numpy.dtype size changed, may indicate binary incompatibility. Expected 96, got 88\n",
      "  return f(*args, **kwds)\n",
      "/home/jean/miniconda3/envs/py36/lib/python3.6/importlib/_bootstrap.py:219: RuntimeWarning: numpy.dtype size changed, may indicate binary incompatibility. Expected 96, got 88\n",
      "  return f(*args, **kwds)\n"
     ]
    }
   ],
   "source": [
    "%load_ext autoreload\n",
    "%autoreload\n",
    "import sys, os\n",
    "import numpy as np\n",
    "import scipy.optimize as optimize\n",
    "import scipy.fftpack as fft\n",
    "import scipy.integrate as integrate\n",
    "import scipy.linalg as linalg\n",
    "from scipy.stats import linregress\n",
    "import scipy.signal as signal\n",
    "\n",
    "%matplotlib inline\n",
    "import matplotlib as mpl\n",
    "import matplotlib.pyplot as plt\n",
    "from chi2 import *\n",
    "\n",
    "mpl.rcParams['figure.dpi'] = 80\n",
    "mpl.rcParams['savefig.dpi'] = 100\n",
    "mpl.rcParams['font.size'] = 15"
   ]
  },
  {
   "cell_type": "code",
   "execution_count": 2,
   "metadata": {},
   "outputs": [],
   "source": [
    "def curve_fit( func, x, y, sigma, p0 ):\n",
    "    fit = optimize.leastsq( lambda args: (func(x, *args)-y)/sigma, x0=p0, full_output=1, ftol=1e-8, gtol=1e-8, xtol=1e-8 )\n",
    "    cov = fit[1]\n",
    "    fit = fit[0]\n",
    "    fitval = func(x, *fit)\n",
    "    s_sq = np.sum( ((fitval-y)/sigma)**2 )/(len(x) - 2)\n",
    "    if(len(x)==2):\n",
    "        s_sq = np.sum( ((fitval-y)/sigma)**2 )/len(x)\n",
    "    if cov is not None:\n",
    "        cov = cov * s_sq\n",
    "        fiterr = np.sqrt(np.diag(cov))\n",
    "    else:\n",
    "        print(\"NONE\")\n",
    "        fiterr = np.ones(len(fit))*1e9\n",
    "    return fit, fiterr\n",
    "\n",
    "def least_sq( y, yfit ):\n",
    "    return sum( (y - yfit)**2 )"
   ]
  },
  {
   "cell_type": "code",
   "execution_count": 98,
   "metadata": {},
   "outputs": [],
   "source": [
    "n = 200\n",
    "dt = 1e-4\n",
    "times_tot = np.arange( 1e4 )*dt\n",
    "times = np.arange(1e4-2*n)*dt\n",
    "times = times - max(times)\n",
    "nyq = 1/dt/2"
   ]
  },
  {
   "cell_type": "code",
   "execution_count": 100,
   "metadata": {},
   "outputs": [
    {
     "name": "stdout",
     "output_type": "stream",
     "text": [
      "1.5, 1.5624053982296469, 1.6274070856114273, 1.6951130771176475, 1.7656358815321864, 1.839092688409233, 1.9156055628101731, 1.9953016481422365, 2.078313377435961, 2.164778693412557, 2.2548412777068667, 2.3486507896268285, 2.446363114846186, 2.548140624443717, 2.654152444719417, 2.764574738236021, 2.8795909965528477, 2.9993923451384386, 3.1241778609686506, 3.254154903337981, 3.389539458433823, 3.5305564982462663, 3.6774403544098164, 3.8304351075982948, 3.9897949931199563, 4.155784823386824, 4.328680427960275, 4.508769111904102, 4.696350133206706, 4.891735200065785, 5.095248988861842, 5.307229683681261, 5.528029538285482, 5.758015461460119, 5.997569626716708, 6.2470901073602345, 6.506991537977769, 6.7777058034473985, 7.059682756612415, 7.353390965813326, 7.659318493519905, 7.977973707357111, 8.309886124872625, 8.655607293449753, 9.015711706827863, 9.390797759753386, 9.781488742347708, 10.188433875844382, 10.612309391416712, 11.053819653888436, 11.51369833219484, 11.992709618539262, 12.491649498270903, 13.011347072594074, 13.552665936306997, 14.116505612859406, 14.703803049113764, 15.315534172293928, 15.952715511708425, 16.61640588794338, 17.30770817233175, 18.027771119623004, 18.77779127689834, 19.55901497190368, 20.372740384104528, 21.220319701904035, 22.1031613696092, 23.02273242787894, 23.980560951543204, 24.978238588844096, 26.017423206318732, 27.099841643718452, 28.22729258354287, 29.401649539956708, 30.624863972056353, 31.89896852665965, 33.2260804160071, 34.6084049359879, 36.04823913073671, 37.54797560969082, 39.11010652345067, 40.73722770505057, 42.4320429835209, 44.197368676910315, 46.03613827223373, 47.95140730012291, 49.94635841228036, 52.024306670173054, 54.18870505375534, 56.44315019937434, 58.79138837639283, 61.23732171246119, 63.785014677783295, 66.4387008391506, 69.20278989496897, 72.08187500296773, 75.08074041276764, 78.20436941599124, 81.45795262712682, 84.8468966089052, 88.37683285652415, 92.05362715564837, 95.88338932973606, 99.87248339288972, 104.02753812510112, 108.35545808746559, 112.86343509566835, 117.55896017080909, 122.449835987424, 127.54418983939077, 132.8504871452607, 138.37754551546243, 144.13454940475145, 150.1310653742543, 156.37705798846864, 162.88290637363582, 169.65942146500186, 176.71786397162518, 184.0699630885864, 191.72793598769286, 199.70450811906616, 208.01293435735025, 216.6670210276755, 225.68114884798442, 235.07029682583956, 244.8500671494248, 255.03671111410168, 265.647156127605, 276.69903383874924, 288.2107094363931, 300.20131216734455, 312.69076712392143, 325.6998283539895, 339.2501133484951, 353.3641389638056, 368.06535883854735, 383.37820236711906, 399.3281152946428, 415.9416020008139, 433.24626954290596, 451.2708735311287, 470.04536591256254, 489.60094474307783, 509.97010602994663, 531.1866977312894, 553.2859760020975, 576.3046637802908, 600.2810118101654, 625.2548622046373, 651.2677146519063, 678.3627953765492, 706.5851289696493, 735.9816132073144, 766.6010969819147, 798.494461475541, 831.7147047105735, 866.3170296178513, 902.3589357688026, 939.9003149239577, 979.0035505566235, 1019.7336215171065, 1062.15821000973, 1106.3478140620941, 1152.3758646734573, 1200.3188478369111, 1250.256431638119, 1302.2715986418218, 1356.45078378609, 1412.8840180134819, 1471.6650778777719, 1532.891641374855, 1596.665450256785, 1663.0924790986473, 1732.2831113992354, 1804.352323008143, 1879.4198731840843, 1957.610503601926, 2039.0541456391381, 2123.886136286087, 2212.2474430389934, 2304.284898149238, 2400.151442618279, 2500.006380343649, 2604.0156428383184, 2712.3520649633556, 2825.195672132051, 2942.7339794627687, 3065.1623033776245, 3192.684086164813, 3325.511234043861, 3463.8644692956427, 3607.9736970422555, 3758.078387286265, 3914.427972844147, 4077.28226383522, 4246.911879414763, 4423.598697468827, 4607.636323017954, 4799.330576108164, 4998.999999999998, "
     ]
    }
   ],
   "source": [
    "# d = signal.firwin(101, [0.01, 499.9], nyq=nyq, window='hamming', pass_zero=False)\n",
    "# w, h = signal.freqz(d, worN=15000)\n",
    "# plt.figure()\n",
    "# plt.plot(w/np.pi*nyq, np.absolute(h))\n",
    "# plt.figure()\n",
    "# facNorm = (integrate.simps(np.absolute(h)**2, w/np.pi*nyq))\n",
    "filtup_arr = np.logspace(np.log10(1.5), np.log10(nyq-1), 200)\n",
    "erravefilt_arr = []\n",
    "errave_arr = []\n",
    "phasediff_arr = []\n",
    "phase_arr_tot = []\n",
    "phasefilt_arr_tot = []\n",
    "truephase_arr = []\n",
    "for filt in filtup_arr:\n",
    "    print(filt, end=', ')\n",
    "    d = signal.firwin(101, [0.5, filt], nyq=nyq, window='hamming', pass_zero=False)\n",
    "#     w, h = signal.freqz(d, worN=15000)\n",
    "#     plt.figure()\n",
    "#     plt.plot(w/np.pi*nyq, np.absolute(h))\n",
    "#     plt.figure()\n",
    "#     fac = (integrate.simps(np.absolute(h)**2, w/np.pi*nyq))/facNorm\n",
    "#     print(fac)\n",
    "    res_arr = []\n",
    "    resfilt_arr = []\n",
    "    phase_arr = []\n",
    "    phasefilt_arr = []\n",
    "    norm_arr = []\n",
    "    normfilt_arr = []\n",
    "    errphase_arr = []\n",
    "    errphasefilt_arr = []\n",
    "    errnorm_arr = []\n",
    "    errnormfilt_arr = []\n",
    "    phase = 2*np.pi*np.random.rand()\n",
    "    for i in range(10):\n",
    "        sig_tot = np.sin(2*np.pi*1*times_tot+phase) + np.random.normal(0,1e-5,size=len(times_tot))\n",
    "        sig = sig_tot[n:-n].copy()\n",
    "        filtered_sig = signal.convolve(sig_tot, d, mode='same', method='auto')[n:-n]\n",
    "\n",
    "        paraOut = optimize.minimize( lambda para: least_sq(sig, para[0]*np.sin(2*np.pi*times) + para[1]*np.cos(2*np.pi*times)), [ 0.1, 0.1 ], method=\"SLSQP\", tol=1e-10, options={'eps': 1e-12, 'ftol':1e-10, 'maxiter':5000} ).x\n",
    "        paraOut, errtout = curve_fit( lambda t, *para: para[0]*np.sin(2*np.pi*t) + para[1]*np.cos(2*np.pi*t), times, sig, np.ones(len(times)), paraOut)\n",
    "\n",
    "        paraOut_filt = optimize.minimize( lambda para: least_sq(filtered_sig, para[0]*np.sin(2*np.pi*times) + para[1]*np.cos(2*np.pi*times)), [ 0.1, 0.1 ], method=\"SLSQP\", tol=1e-30, options={'eps': 1e-12, 'ftol':1e-10, 'maxiter':5000} ).x\n",
    "        paraOut_filt, errtout_filt = curve_fit( lambda t, *para: para[0]*np.sin(2*np.pi*t) + para[1]*np.cos(2*np.pi*t), times, filtered_sig, np.ones(len(times)), paraOut_filt)\n",
    "\n",
    "        norm_arr.append(np.sqrt(paraOut[1]**2 + paraOut[0]**2))\n",
    "        normfilt_arr.append(np.sqrt(paraOut_filt[1]**2 + paraOut_filt[0]**2))\n",
    "\n",
    "        phase_arr.append(np.arctan2(paraOut[1], paraOut[0]))\n",
    "        phasefilt_arr.append(np.arctan2(paraOut_filt[1], paraOut_filt[0]))\n",
    "\n",
    "        errphase_arr.append(np.abs(paraOut[0]*paraOut[1])/norm_arr[-1]**(-2) * np.sqrt( (errtout[0]/paraOut[0])**2 + (errtout[1]/paraOut[1])**2 ))\n",
    "        errphasefilt_arr.append(np.abs(paraOut_filt[0]*paraOut_filt[1])/(paraOut_filt[0]**2+paraOut_filt[1]**2) * np.sqrt( (errtout_filt[0]/paraOut_filt[0])**2 + (errtout_filt[1]/paraOut_filt[1])**2 ))\n",
    "\n",
    "        errnorm_arr.append(norm_arr[-1]**(-1) * np.sqrt( (errtout[0]*paraOut[0])**2 + (errtout[1]*paraOut[1])**2 ))\n",
    "        errnormfilt_arr.append(normfilt_arr[-1]**(-1) * np.sqrt( (errtout_filt[0]*paraOut_filt[0])**2 + (errtout_filt[1]*paraOut_filt[1])**2 ))\n",
    "\n",
    "        res_arr.append(np.sum((paraOut[0]*np.sin(2*np.pi*times) + paraOut[1]*np.cos(2*np.pi*times) - sig)**2))\n",
    "        resfilt_arr.append(np.sum((paraOut_filt[0]*np.sin(2*np.pi*times) + paraOut_filt[1]*np.cos(2*np.pi*times) - filtered_sig)**2))\n",
    "\n",
    "    res_arr = np.array(res_arr)\n",
    "    resfilt_arr = np.array(resfilt_arr)\n",
    "    phase_arr = np.array(phase_arr)\n",
    "    phasefilt_arr = np.array(phasefilt_arr)\n",
    "    norm_arr = np.array(norm_arr)\n",
    "    normfilt_arr = np.array(normfilt_arr)\n",
    "    errphase_arr = np.array(errphase_arr)\n",
    "    errphasefilt_arr = np.array(errphasefilt_arr)\n",
    "    errnorm_arr = np.array(errnorm_arr)\n",
    "    errnormfilt_arr = np.array(errnormfilt_arr)\n",
    "    phasediff_arr.append(phase_arr-phasefilt_arr)\n",
    "    phase_arr_tot.append(phase_arr)\n",
    "    phasefilt_arr_tot.append(phasefilt_arr)\n",
    "    truephase_arr.append(phase)\n",
    "\n",
    "#     f, ax = plt.subplots(2,1)\n",
    "#     f.suptitle(filt)\n",
    "#     ax[0].errorbar(range(len(phasefilt_arr)), phasefilt_arr-np.mean(phasefilt_arr), errphasefilt_arr)\n",
    "#     ax[1].errorbar(range(len(phase_arr)), phase_arr-np.mean(phase_arr), errphase_arr)\n",
    "    erravefilt_arr.append(np.mean(errphasefilt_arr))\n",
    "    errave_arr.append(np.mean(errphase_arr))\n",
    "erravefilt_arr = np.array(erravefilt_arr)\n",
    "errave_arr = np.array(errave_arr)\n",
    "phasediff_arr = np.array(phasediff_arr)\n",
    "phase_arr_tot = np.array(phase_arr_tot)\n",
    "phasefilt_arr_tot = np.array(phasefilt_arr_tot)\n",
    "truephase_arr = np.array(truephase_arr)"
   ]
  },
  {
   "cell_type": "code",
   "execution_count": 137,
   "metadata": {},
   "outputs": [
    {
     "data": {
      "text/plain": [
       "(0, 100)"
      ]
     },
     "execution_count": 137,
     "metadata": {},
     "output_type": "execute_result"
    },
    {
     "data": {
      "image/png": "[encoded data removed]",
      "text/plain": [
       "<matplotlib.figure.Figure at 0x7f8eb09f9860>"
      ]
     },
     "metadata": {},
     "output_type": "display_data"
    }
   ],
   "source": [
    "filtwidth_arr = filtup_arr-0.5\n",
    "plt.plot(filtwidth_arr, erravefilt_arr/np.mean(errave_arr))\n",
    "plt.plot(filtwidth_arr, 1/np.sqrt(nyq)*filtwidth_arr**0.5)"
   ]
  },
  {
   "cell_type": "code",
   "execution_count": 103,
   "metadata": {},
   "outputs": [
    {
     "data": {
      "text/plain": [
       "[<matplotlib.lines.Line2D at 0x7f8eb0bf0898>]"
      ]
     },
     "execution_count": 103,
     "metadata": {},
     "output_type": "execute_result"
    },
    {
     "data": {
      "image/png": "[encoded data removed]",
      "text/plain": [
       "<matplotlib.figure.Figure at 0x7f8eb0c05390>"
      ]
     },
     "metadata": {},
     "output_type": "display_data"
    }
   ],
   "source": [
    "plt.plot(filtwidth_arr, np.mean(phasediff_arr, axis=1))"
   ]
  },
  {
   "cell_type": "code",
   "execution_count": 123,
   "metadata": {},
   "outputs": [
    {
     "data": {
      "image/png": "[encoded data removed]",
      "text/plain": [
       "<matplotlib.figure.Figure at 0x7f8eb1a9de48>"
      ]
     },
     "metadata": {},
     "output_type": "display_data"
    }
   ],
   "source": [
    "diff_filt = np.mod(np.mean(phasefilt_arr_tot, axis=1), 2*np.pi)- np.mod(truephase_arr, 2*np.pi)\n",
    "diff = np.mod(np.mean(phase_arr_tot, axis=1), 2*np.pi)- np.mod(truephase_arr, 2*np.pi)\n",
    "plt.scatter(diff_filt - np.mean(diff[diff<1]), diff - np.mean(diff[diff<1]))\n",
    "#plt.xscale(\"log\")\n",
    "plt.ylim(-2e-7,2e-7)\n",
    "plt.xlim(-2e-7, 2e-7)\n",
    "plt.show()\n",
    "#plt.plot(filtwidth_arr, np.mod(np.mean(phasefilt_arr_tot, axis=1), 2*np.pi)-np.mod(truephase_arr, 2*np.pi))"
   ]
  },
  {
   "cell_type": "code",
   "execution_count": 142,
   "metadata": {},
   "outputs": [
    {
     "data": {
      "image/png": "[encoded data removed]",
      "text/plain": [
       "<matplotlib.figure.Figure at 0x7f8eb0e3ce80>"
      ]
     },
     "metadata": {},
     "output_type": "display_data"
    }
   ],
   "source": [
    "i = np.argmin(np.abs(filtwidth_arr-20))\n",
    "plt.hist((diff_filt-diff)[:i]);"
   ]
  },
  {
   "cell_type": "code",
   "execution_count": null,
   "metadata": {},
   "outputs": [],
   "source": []
  }
 ],
 "metadata": {
  "kernelspec": {
   "display_name": "Python 3",
   "language": "python",
   "name": "python3"
  },
  "language_info": {
   "codemirror_mode": {
    "name": "ipython",
    "version": 3
   },
   "file_extension": ".py",
   "mimetype": "text/x-python",
   "name": "python",
   "nbconvert_exporter": "python",
   "pygments_lexer": "ipython3",
   "version": "3.6.4"
  }
 },
 "nbformat": 4,
 "nbformat_minor": 2
}
