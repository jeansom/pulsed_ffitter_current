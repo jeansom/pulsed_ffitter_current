{
 "cells": [
  {
   "cell_type": "code",
   "execution_count": 5,
   "metadata": {},
   "outputs": [
    {
     "name": "stdout",
     "output_type": "stream",
     "text": [
      "The autoreload extension is already loaded. To reload it, use:\n",
      "  %reload_ext autoreload\n"
     ]
    }
   ],
   "source": [
    "%load_ext autoreload\n",
    "%autoreload 2\n",
    "import sys, os\n",
    "from tarfuncs import *\n",
    "import numpy as np\n",
    "\n",
    "%matplotlib inline\n",
    "import matplotlib as mpl\n",
    "import matplotlib.pyplot as plt\n",
    "from tqdm import *\n",
    "\n",
    "mpl.rcParams['figure.figsize'] = [8.0, 6.0]\n",
    "mpl.rcParams['figure.dpi'] = 80\n",
    "mpl.rcParams['savefig.dpi'] = 100\n",
    "mpl.rcParams['font.size'] = 15"
   ]
  },
  {
   "cell_type": "code",
   "execution_count": 104,
   "metadata": {},
   "outputs": [
    {
     "name": "stdout",
     "output_type": "stream",
     "text": [
      "Something's already extracted there!\n"
     ]
    }
   ],
   "source": [
    "fname = '/home/jean/RomalisResearch/pulsed_fitter_current/Results/2018-12-27_22-00'\n",
    "untar(fname)\n",
    "files = os.listdir(fname)\n",
    "initialfitting_files = np.sort(np.array([f for f in files if 'initialfitting' in f]))\n",
    "fitPhases_files = np.sort(np.array([f for f in files if 'fitPhases' in f]))\n",
    "correctphases_files = np.sort(np.array([f for f in files if 'corrphase' in f]))"
   ]
  },
  {
   "cell_type": "code",
   "execution_count": 105,
   "metadata": {},
   "outputs": [],
   "source": [
    "initialfitting_arr = []\n",
    "\n",
    "# Parameters from partial fitting\n",
    "amp1_arr = []; freq1_arr = []; phase1_arr = []; \n",
    "amp2_arr = []; freq2_arr = []; phase2_arr = []; \n",
    "slope_arr = []; offset_arr = [];\n",
    "\n",
    "amp1_err = []; freq1_err = []; phase1_err = []; \n",
    "amp2_err = []; freq2_err = []; phase2_err = []; \n",
    "slope_err = []; offset_err = [];\n",
    "\n",
    "times_arr = [];\n",
    "\n",
    "for f in initialfitting_files:\n",
    "    initialfitting_arr.append(np.load(fname+\"/\"+f))\n",
    "    paraOut_arr = initialfitting_arr[-1]['paraOut_arr']\n",
    "    errtout_arr = initialfitting_arr[-1]['errtout_arr']\n",
    "\n",
    "    amp1_arr.append(paraOut_arr[:, 0]); freq1_arr.append(paraOut_arr[:, 1]); phase1_arr.append(paraOut_arr[:, 2]); \n",
    "    amp2_arr.append(paraOut_arr[:, 3]); freq2_arr.append(paraOut_arr[:, 4]); phase2_arr.append(paraOut_arr[:, 5]); \n",
    "    slope_arr.append(paraOut_arr[:, 6]); offset_arr.append(paraOut_arr[:, 7]);\n",
    "\n",
    "    amp1_err.append(errtout_arr[:, 0]); freq1_err.append(errtout_arr[:, 1]); phase1_err.append(errtout_arr[:, 2]); \n",
    "    amp2_err.append(errtout_arr[:, 3]); freq2_err.append(errtout_arr[:, 4]); phase2_err.append(errtout_arr[:, 5]); \n",
    "    slope_err.append(errtout_arr[:, 6]); offset_err.append(errtout_arr[:, 7]);\n",
    "    \n",
    "    times_arr.append(initialfitting_arr[-1]['times'])"
   ]
  },
  {
   "cell_type": "code",
   "execution_count": 106,
   "metadata": {},
   "outputs": [],
   "source": [
    "# Fitting phases correct by 2Pi (NOT CORRECTED PHASES)\n",
    "\n",
    "fitPhases_arr = []\n",
    "\n",
    "#   slope of fit to phases;  offset of slope to phases; error of slope; error of offset; chi2 of fit;\n",
    "phi1_slope_arr = []; phi1_offset_arr = []; phi1_slope_err = []; phi1_offset_err = []; chi21_arr = [];\n",
    "phi2_slope_arr = []; phi2_offset_arr = []; phi2_slope_err = []; phi2_offset_err = []; chi22_arr = [];\n",
    "r_arr = []; # g ratio ratio\n",
    "\n",
    "for f in fitPhases_files:\n",
    "    fitPhases_arr.append(np.load(fname+\"/\"+f))\n",
    "    phi1_fit = fitPhases_arr[-1]['phi1_fit']; phi1_err = fitPhases_arr[-1]['phi1_fit_err'];\n",
    "    phi1_slope_arr.append(phi1_fit[0]); phi1_slope_err.append(phi1_err[0]);\n",
    "    \n",
    "    phi2_fit = fitPhases_arr[-1]['phi2_fit']; phi2_err = fitPhases_arr[-1]['phi2_fit_err'];\n",
    "    phi2_slope_arr.append(phi2_fit[0]); phi2_slope_err.append(phi2_err[1]);\n",
    "    \n",
    "    r_chi21_chi22 = fitPhases_arr[-1]['r_chi21_chi22']\n",
    "    r_arr.append(r_chi21_chi22[0])\n",
    "    chi21_arr.append(r_chi21_chi22[1]); chi22_arr.append(r_chi21_chi22[1]);"
   ]
  },
  {
   "cell_type": "code",
   "execution_count": 119,
   "metadata": {},
   "outputs": [],
   "source": [
    "correctphases_arr = []\n",
    "\n",
    "# Corrected frequency; freq error; corrected phase offset; offset error\n",
    "cf = []; cf_err = []; co = []; co_err = [];\n",
    "\n",
    "for f in correctphases_files:\n",
    "    correctphases_arr.append(np.load(fname+\"/\"+f))\n",
    "    cp_fit = correctphases_arr[-1]['cp_fit']; cp_fiterr = correctphases_arr[-1]['cp_fiterr']\n",
    "    cf.append(cp_fit[0]); cf_err.append(cp_fiterr[0]);\n",
    "    co.append(cp_fit[1]); co_err.append(cp_fiterr[1]);"
   ]
  },
  {
   "cell_type": "code",
   "execution_count": 125,
   "metadata": {},
   "outputs": [],
   "source": [
    "tarFileAndRemove('/home/jean/RomalisResearch/pulsed_fitter_current/Results/2018-12-27_22-00')"
   ]
  }
 ],
 "metadata": {
  "kernelspec": {
   "display_name": "Python 3",
   "language": "python",
   "name": "python3"
  },
  "language_info": {
   "codemirror_mode": {
    "name": "ipython",
    "version": 3
   },
   "file_extension": ".py",
   "mimetype": "text/x-python",
   "name": "python",
   "nbconvert_exporter": "python",
   "pygments_lexer": "ipython3",
   "version": "3.6.4"
  }
 },
 "nbformat": 4,
 "nbformat_minor": 2
}
