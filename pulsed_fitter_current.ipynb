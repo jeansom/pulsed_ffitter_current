{
 "cells": [
  {
   "cell_type": "code",
   "execution_count": null,
   "metadata": {},
   "outputs": [],
   "source": [
    "%load_ext autoreload\n",
    "%autoreload 2\n",
    "import sys, os\n",
    "import shutil\n",
    "import tarfile\n",
    "import errno\n",
    "from datetime import datetime\n",
    "import numpy as np\n",
    "import scipy.optimize as optimize\n",
    "import scipy.fftpack as fft\n",
    "import scipy.linalg as linalg\n",
    "from scipy.stats import linregress\n",
    "\n",
    "%matplotlib inline\n",
    "import matplotlib as mpl\n",
    "import matplotlib.pyplot as plt\n",
    "from BandPass2 import *\n",
    "from fitFunctions import *\n",
    "from partialfitting import *\n",
    "from tqdm import *\n",
    "from fitphases import *\n",
    "from fitGammaRatio import *\n",
    "from chi2 import *\n",
    "from corrphase import *\n",
    "from corr2Pi import *\n",
    "\n",
    "mpl.rcParams['figure.figsize'] = [8.0, 6.0]\n",
    "mpl.rcParams['figure.dpi'] = 80\n",
    "mpl.rcParams['savefig.dpi'] = 100\n",
    "mpl.rcParams['font.size'] = 15"
   ]
  },
  {
   "cell_type": "code",
   "execution_count": null,
   "metadata": {},
   "outputs": [],
   "source": [
    "dirName = \"/home/jean/RomalisResearch/Data/18-12-15/\" # Directory with data\n",
    "files = [f for f in os.listdir(dirName) if f.endswith('.txt')]\n",
    "gHe = 20378.9\n",
    "gNe = 2*np.pi*336.1\n",
    "gRatio = gHe/gNe\n",
    "\n",
    "ks1 = 6 # First file index\n",
    "ks2 = 49 # Last file index\n",
    "n_ave = 1 # Number of points to average over\n",
    "\n",
    "dt = 1e-3*n_ave\n",
    "Fs = 1/dt\n",
    "D1Start = 20 # Start of first detection (currently only uses this)\n",
    "D1EndTimes = [500] # End of first detection (currently only uses this)\n",
    "D2Start = 200 # Start of second detection (currently doesn't use this)\n",
    "D2EndTimes = [240] # End of second detection (currently doesn't use this)\n",
    "absSigma = True\n",
    "\n",
    "delta_t = 2/1.56 # Time length of a subsection"
   ]
  },
  {
   "cell_type": "code",
   "execution_count": null,
   "metadata": {},
   "outputs": [],
   "source": [
    "saveDirName = os.path.join(\n",
    "    '/home/jean/RomalisResearch/pulsed_fitter_current/Results/',\n",
    "    datetime.now().strftime('%Y-%m-%d_%H-%M'))\n",
    "os.makedirs(saveDirName)\n",
    "for k_ind in range(ks1, ks2+1):\n",
    "    print(k_ind)\n",
    "    k = k_ind - ks1 # file number\n",
    "    print(files[k_ind])\n",
    "    initialfitting(saveDirName, k_ind, k, n_ave, dirName, files, dt, Fs, D1Start, D1EndTimes, D2Start, D2EndTimes, delta_t)\n",
    "    correctPhases(saveDirName, k_ind)\n",
    "    fitPhases(saveDirName, k_ind, absSigma)"
   ]
  },
  {
   "cell_type": "code",
   "execution_count": null,
   "metadata": {},
   "outputs": [],
   "source": [
    "for k_ind in range(ks1, ks2+1):\n",
    "    k = k_ind - ks1 # file number\n",
    "    corrphase(saveDirName, k_ind, absSigma)\n",
    "with tarfile.open(saveDirName+\".gz\", \"w:gz\") as tar_handle:\n",
    "    for root, dirs, file in os.walk(saveDirName):\n",
    "        for f in file:\n",
    "            tar_handle.add(os.path.join(root, f), arcname=f)\n",
    "shutil.rmtree(saveDirName)"
   ]
  }
 ],
 "metadata": {
  "kernelspec": {
   "display_name": "Python 3",
   "language": "python",
   "name": "python3"
  },
  "language_info": {
   "codemirror_mode": {
    "name": "ipython",
    "version": 3
   },
   "file_extension": ".py",
   "mimetype": "text/x-python",
   "name": "python",
   "nbconvert_exporter": "python",
   "pygments_lexer": "ipython3",
   "version": "3.6.4"
  }
 },
 "nbformat": 4,
 "nbformat_minor": 2
}
